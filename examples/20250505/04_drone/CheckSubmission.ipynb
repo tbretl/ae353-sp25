{
 "cells": [
  {
   "cell_type": "markdown",
   "id": "middle-acoustic",
   "metadata": {},
   "source": [
    "# How to check contest submission"
   ]
  },
  {
   "cell_type": "markdown",
   "id": "faced-least",
   "metadata": {},
   "source": [
    "Import modules."
   ]
  },
  {
   "cell_type": "code",
   "execution_count": 1,
   "id": "informed-qatar",
   "metadata": {},
   "outputs": [
    {
     "name": "stderr",
     "output_type": "stream",
     "text": [
      "pybullet build time: Sep  3 2024 12:57:43\n"
     ]
    }
   ],
   "source": [
    "import numpy as np\n",
    "import secrets\n",
    "import ae353_drone"
   ]
  },
  {
   "cell_type": "markdown",
   "id": "62d42807",
   "metadata": {},
   "source": [
    "Prevent students from importing `ae353_drone` in their own code."
   ]
  },
  {
   "cell_type": "code",
   "execution_count": 2,
   "id": "d8a2b2db",
   "metadata": {},
   "outputs": [],
   "source": [
    "import sys\n",
    "sys.modules['ae353_drone'] = None"
   ]
  },
  {
   "cell_type": "markdown",
   "id": "final-distinction",
   "metadata": {},
   "source": [
    "Create and print a seed for the random number generator so it is possible to reproduce the results."
   ]
  },
  {
   "cell_type": "code",
   "execution_count": 3,
   "id": "ceramic-evanescence",
   "metadata": {},
   "outputs": [
    {
     "name": "stdout",
     "output_type": "stream",
     "text": [
      "2638588191\n"
     ]
    }
   ],
   "source": [
    "seed = secrets.randbits(32)\n",
    "print(seed)"
   ]
  },
  {
   "cell_type": "markdown",
   "id": "environmental-refrigerator",
   "metadata": {},
   "source": [
    "Create simulator with seed."
   ]
  },
  {
   "cell_type": "code",
   "execution_count": 4,
   "id": "needed-motion",
   "metadata": {},
   "outputs": [
    {
     "name": "stdout",
     "output_type": "stream",
     "text": [
      "argv[0]=\n"
     ]
    }
   ],
   "source": [
    "simulator = ae353_drone.Simulator(seed=seed)"
   ]
  },
  {
   "cell_type": "markdown",
   "id": "f0f1d092",
   "metadata": {},
   "source": [
    "Clear all drones."
   ]
  },
  {
   "cell_type": "code",
   "execution_count": 24,
   "id": "69d0a794",
   "metadata": {},
   "outputs": [],
   "source": [
    "simulator.clear_drones()"
   ]
  },
  {
   "cell_type": "markdown",
   "id": "proprietary-camel",
   "metadata": {},
   "source": [
    "Load drones from `students` directory."
   ]
  },
  {
   "cell_type": "code",
   "execution_count": 25,
   "id": "adolescent-anime",
   "metadata": {},
   "outputs": [
    {
     "name": "stdout",
     "output_type": "stream",
     "text": [
      "Try to import controllers from the directory \"./students\":\n",
      " ./students/tbretl.py\n",
      "\n",
      "\n",
      "The following controllers failed to import and were ignored:\n",
      "\n"
     ]
    }
   ],
   "source": [
    "failures = simulator.load_drones()"
   ]
  },
  {
   "cell_type": "markdown",
   "id": "progressive-catch",
   "metadata": {},
   "source": [
    "Reset drones (places drones at random positions within the start ring)."
   ]
  },
  {
   "cell_type": "code",
   "execution_count": 26,
   "id": "noted-filter",
   "metadata": {},
   "outputs": [
    {
     "name": "stdout",
     "output_type": "stream",
     "text": [
      "\n",
      "==========\n",
      "error on reset of drone tbretl (turning it off):\n",
      "==========\n",
      "Traceback (most recent call last):\n",
      "  File \"/Users/timothybretl/Documents/courses/AE353/11-ae353-ap2025/ae353-sp25/examples/20250505/04_drone/ae353_drone.py\", line 671, in reset\n",
      "    raise Exception(f'Reset timeout exceeded: {controller_run_time} > {self.max_controller_reset_time}')\n",
      "Exception: Reset timeout exceeded: 1.0018138885498047 > 1.0\n",
      "==========\n",
      "\n"
     ]
    }
   ],
   "source": [
    "simulator.reset()"
   ]
  },
  {
   "cell_type": "markdown",
   "id": "broke-water",
   "metadata": {},
   "source": [
    "Run simulation for `max_time` seconds or until all drones finish, with debug information."
   ]
  },
  {
   "cell_type": "code",
   "execution_count": 18,
   "id": "russian-thunder",
   "metadata": {},
   "outputs": [
    {
     "name": "stdout",
     "output_type": "stream",
     "text": [
      "\n",
      "==========\n",
      "error on run of drone tbretl (turning it off):\n",
      "==========\n",
      "Traceback (most recent call last):\n",
      "  File \"/Users/timothybretl/Documents/courses/AE353/11-ae353-ap2025/ae353-sp25/examples/20250505/04_drone/ae353_drone.py\", line 969, in step\n",
      "    (\n",
      "    ^\n",
      "    ...<4 lines>...\n",
      "    ) = drone['controller'].run(\n",
      "    ^\n",
      "ValueError: not enough values to unpack (expected 4, got 3)\n",
      "==========\n",
      "\n",
      "Simulated 2 time steps in 0.0017 seconds (1196.8338 time steps per second)\n"
     ]
    }
   ],
   "source": [
    "simulator.display_meshcat = False\n",
    "simulator.run(max_time=None, print_debug=True)"
   ]
  },
  {
   "cell_type": "code",
   "execution_count": null,
   "id": "7fd43803",
   "metadata": {},
   "outputs": [],
   "source": []
  }
 ],
 "metadata": {
  "kernelspec": {
   "display_name": "ae353",
   "language": "python",
   "name": "python3"
  },
  "language_info": {
   "codemirror_mode": {
    "name": "ipython",
    "version": 3
   },
   "file_extension": ".py",
   "mimetype": "text/x-python",
   "name": "python",
   "nbconvert_exporter": "python",
   "pygments_lexer": "ipython3",
   "version": "3.13.2"
  }
 },
 "nbformat": 4,
 "nbformat_minor": 5
}
