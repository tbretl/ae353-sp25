{
 "cells": [
  {
   "cell_type": "markdown",
   "id": "middle-acoustic",
   "metadata": {},
   "source": [
    "# How to (and not to) use random seeds"
   ]
  },
  {
   "cell_type": "markdown",
   "id": "faced-least",
   "metadata": {},
   "source": [
    "Import modules."
   ]
  },
  {
   "cell_type": "code",
   "execution_count": 1,
   "id": "informed-qatar",
   "metadata": {},
   "outputs": [
    {
     "name": "stderr",
     "output_type": "stream",
     "text": [
      "pybullet build time: Sep  3 2024 12:57:43\n"
     ]
    }
   ],
   "source": [
    "import numpy as np\n",
    "import secrets\n",
    "import ae353_drone"
   ]
  },
  {
   "cell_type": "markdown",
   "id": "final-distinction",
   "metadata": {},
   "source": [
    "Create and print a seed for the random number generator so it is possible to reproduce the results."
   ]
  },
  {
   "cell_type": "code",
   "execution_count": 2,
   "id": "ceramic-evanescence",
   "metadata": {},
   "outputs": [
    {
     "name": "stdout",
     "output_type": "stream",
     "text": [
      "2620666960\n"
     ]
    }
   ],
   "source": [
    "seed = secrets.randbits(32)\n",
    "print(seed)"
   ]
  },
  {
   "cell_type": "markdown",
   "id": "environmental-refrigerator",
   "metadata": {},
   "source": [
    "Create simulator with seed."
   ]
  },
  {
   "cell_type": "code",
   "execution_count": 3,
   "id": "needed-motion",
   "metadata": {},
   "outputs": [
    {
     "name": "stdout",
     "output_type": "stream",
     "text": [
      "argv[0]=\n"
     ]
    }
   ],
   "source": [
    "simulator = ae353_drone.Simulator(seed=seed)"
   ]
  },
  {
   "cell_type": "markdown",
   "id": "f0f1d092",
   "metadata": {},
   "source": [
    "Clear all drones."
   ]
  },
  {
   "cell_type": "code",
   "execution_count": 4,
   "id": "69d0a794",
   "metadata": {},
   "outputs": [],
   "source": [
    "simulator.clear_drones()"
   ]
  },
  {
   "cell_type": "markdown",
   "id": "proprietary-camel",
   "metadata": {},
   "source": [
    "Load drones from `students` directory."
   ]
  },
  {
   "cell_type": "code",
   "execution_count": 5,
   "id": "adolescent-anime",
   "metadata": {},
   "outputs": [
    {
     "name": "stdout",
     "output_type": "stream",
     "text": [
      "Try to import controllers from the directory \"./students_original\":\n",
      " ./students_original/tbretl.py\n",
      "\n",
      "\n",
      "The following controllers failed to import and were ignored:\n",
      "\n"
     ]
    }
   ],
   "source": [
    "failures = simulator.load_drones(dirname='students_original')"
   ]
  },
  {
   "cell_type": "markdown",
   "id": "progressive-catch",
   "metadata": {},
   "source": [
    "Reset drones (places drones at random positions within the start ring)."
   ]
  },
  {
   "cell_type": "code",
   "execution_count": 6,
   "id": "noted-filter",
   "metadata": {},
   "outputs": [],
   "source": [
    "simulator.reset()"
   ]
  },
  {
   "cell_type": "markdown",
   "id": "broke-water",
   "metadata": {},
   "source": [
    "Run simulation for `max_time` seconds or until all drones finish, with debug information."
   ]
  },
  {
   "cell_type": "code",
   "execution_count": 7,
   "id": "russian-thunder",
   "metadata": {},
   "outputs": [
    {
     "name": "stdout",
     "output_type": "stream",
     "text": [
      "\n",
      "==========\n",
      "drone tbretl is out of bounds (turning it off)\n",
      "==========\n",
      "\n",
      "Simulated 59 time steps in 0.0147 seconds (4003.0401 time steps per second)\n"
     ]
    }
   ],
   "source": [
    "simulator.display_meshcat = False\n",
    "simulator.run(max_time=None, print_debug=True)"
   ]
  },
  {
   "cell_type": "markdown",
   "id": "7fd43803",
   "metadata": {},
   "source": [
    "Get data."
   ]
  },
  {
   "cell_type": "code",
   "execution_count": 8,
   "id": "c3bc7b41",
   "metadata": {},
   "outputs": [
    {
     "name": "stdout",
     "output_type": "stream",
     "text": [
      "Final position: ( 0.9774,  0.2425, 20.3681)\n"
     ]
    }
   ],
   "source": [
    "data = simulator.get_data('tbretl')\n",
    "print(f'Final position: ({data['p_x'][-1]:7.4f}, {data['p_y'][-1]:7.4f}, {data['p_z'][-1]:7.4f})')"
   ]
  },
  {
   "cell_type": "markdown",
   "id": "e5307ee9",
   "metadata": {},
   "source": [
    "Do it all again (same seed each time)."
   ]
  },
  {
   "cell_type": "code",
   "execution_count": 21,
   "id": "c0149f5c",
   "metadata": {},
   "outputs": [
    {
     "name": "stdout",
     "output_type": "stream",
     "text": [
      "argv[0]=\n",
      "Try to import controllers from the directory \"./students_original\":\n",
      " ./students_original/tbretl.py\n",
      "\n",
      "\n",
      "The following controllers failed to import and were ignored:\n",
      "\n",
      "\n",
      "==========\n",
      "drone tbretl is out of bounds (turning it off)\n",
      "==========\n",
      "\n",
      "Simulated 59 time steps in 0.0059 seconds (10066.4661 time steps per second)\n",
      "Final position: ( 0.9774,  0.2425, 20.3681)\n"
     ]
    }
   ],
   "source": [
    "simulator = ae353_drone.Simulator(seed=seed)\n",
    "simulator.clear_drones()\n",
    "failures = simulator.load_drones(dirname='students_original')\n",
    "simulator.reset()\n",
    "simulator.display_meshcat = False\n",
    "simulator.run(max_time=None, print_debug=True)\n",
    "data = simulator.get_data('tbretl')\n",
    "print(f'Final position: ({data['p_x'][-1]:7.4f}, {data['p_y'][-1]:7.4f}, {data['p_z'][-1]:7.4f})')"
   ]
  },
  {
   "cell_type": "markdown",
   "id": "d6610e72",
   "metadata": {},
   "source": [
    "Do it all again (only one simulator)."
   ]
  },
  {
   "cell_type": "code",
   "execution_count": 32,
   "id": "74388148",
   "metadata": {},
   "outputs": [
    {
     "name": "stdout",
     "output_type": "stream",
     "text": [
      "Try to import controllers from the directory \"./students_original\":\n",
      " ./students_original/tbretl.py\n",
      "\n",
      "\n",
      "The following controllers failed to import and were ignored:\n",
      "\n",
      "\n",
      "==========\n",
      "drone tbretl is out of bounds (turning it off)\n",
      "==========\n",
      "\n",
      "Simulated 59 time steps in 0.0064 seconds (9150.0808 time steps per second)\n",
      "Final position: ( 0.5012, -2.0757, 20.3138)\n"
     ]
    }
   ],
   "source": [
    "simulator.clear_drones()\n",
    "failures = simulator.load_drones(dirname='students_original')\n",
    "simulator.reset()\n",
    "simulator.display_meshcat = False\n",
    "simulator.run(max_time=None, print_debug=True)\n",
    "data = simulator.get_data('tbretl')\n",
    "print(f'Final position: ({data['p_x'][-1]:7.4f}, {data['p_y'][-1]:7.4f}, {data['p_z'][-1]:7.4f})')"
   ]
  },
  {
   "cell_type": "markdown",
   "id": "db7a8c84",
   "metadata": {},
   "source": [
    "Do it all again (different seed each time)."
   ]
  },
  {
   "cell_type": "code",
   "execution_count": null,
   "id": "7b8a2768",
   "metadata": {},
   "outputs": [],
   "source": [
    "seed = secrets.randbits(32)\n",
    "print(seed)\n",
    "simulator = ae353_drone.Simulator(seed=seed)\n",
    "simulator.clear_drones()\n",
    "failures = simulator.load_drones(dirname='students_original')\n",
    "simulator.reset()\n",
    "simulator.display_meshcat = False\n",
    "simulator.run(max_time=None, print_debug=True)\n",
    "data = simulator.get_data('tbretl')\n",
    "print(f'Final position: ({data['p_x'][-1]:7.4f}, {data['p_y'][-1]:7.4f}, {data['p_z'][-1]:7.4f})')"
   ]
  }
 ],
 "metadata": {
  "kernelspec": {
   "display_name": "ae353",
   "language": "python",
   "name": "python3"
  },
  "language_info": {
   "codemirror_mode": {
    "name": "ipython",
    "version": 3
   },
   "file_extension": ".py",
   "mimetype": "text/x-python",
   "name": "python",
   "nbconvert_exporter": "python",
   "pygments_lexer": "ipython3",
   "version": "3.13.2"
  }
 },
 "nbformat": 4,
 "nbformat_minor": 5
}
